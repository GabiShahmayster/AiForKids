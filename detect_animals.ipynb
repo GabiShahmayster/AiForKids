{
  "nbformat": 4,
  "nbformat_minor": 0,
  "metadata": {
    "colab": {
      "provenance": [],
      "authorship_tag": "ABX9TyOw+ZIQ5E/Ax3rje/znGNb3",
      "include_colab_link": true
    },
    "kernelspec": {
      "name": "python3",
      "display_name": "Python 3"
    },
    "language_info": {
      "name": "python"
    }
  },
  "cells": [
    {
      "cell_type": "markdown",
      "metadata": {
        "id": "view-in-github",
        "colab_type": "text"
      },
      "source": [
        "<a href=\"https://colab.research.google.com/github/GabiShahmayster/AiForKids/blob/main/display_an_image.ipynb\" target=\"_parent\"><img src=\"https://colab.research.google.com/assets/colab-badge.svg\" alt=\"Open In Colab\"/></a>"
      ]
    },
    {
      "cell_type": "markdown",
      "source": [
        "Hi Kids!\n",
        "Today we're going to learn about computer vision..."
      ],
      "metadata": {
        "id": "m5zcC0iFm-uq"
      }
    },
    {
      "cell_type": "markdown",
      "source": [
        "The first thing we need to do is to install some python libraries..."
      ],
      "metadata": {
        "id": "m0NHYrgWnQ-i"
      }
    },
    {
      "cell_type": "code",
      "execution_count": null,
      "metadata": {
        "colab": {
          "base_uri": "https://localhost:8080/"
        },
        "id": "0Vjc4Cqsm1Vo",
        "outputId": "06101874-76b2-4ffc-c33d-5f996cc875f2"
      },
      "outputs": [
        {
          "output_type": "stream",
          "name": "stdout",
          "text": [
            "Requirement already satisfied: opencv-python in /usr/local/lib/python3.11/dist-packages (4.11.0.86)\n",
            "Requirement already satisfied: matplotlib in /usr/local/lib/python3.11/dist-packages (3.10.0)\n",
            "Requirement already satisfied: numpy>=1.21.2 in /usr/local/lib/python3.11/dist-packages (from opencv-python) (2.0.2)\n",
            "Requirement already satisfied: contourpy>=1.0.1 in /usr/local/lib/python3.11/dist-packages (from matplotlib) (1.3.2)\n",
            "Requirement already satisfied: cycler>=0.10 in /usr/local/lib/python3.11/dist-packages (from matplotlib) (0.12.1)\n",
            "Requirement already satisfied: fonttools>=4.22.0 in /usr/local/lib/python3.11/dist-packages (from matplotlib) (4.57.0)\n",
            "Requirement already satisfied: kiwisolver>=1.3.1 in /usr/local/lib/python3.11/dist-packages (from matplotlib) (1.4.8)\n",
            "Requirement already satisfied: packaging>=20.0 in /usr/local/lib/python3.11/dist-packages (from matplotlib) (24.2)\n",
            "Requirement already satisfied: pillow>=8 in /usr/local/lib/python3.11/dist-packages (from matplotlib) (11.2.1)\n",
            "Requirement already satisfied: pyparsing>=2.3.1 in /usr/local/lib/python3.11/dist-packages (from matplotlib) (3.2.3)\n",
            "Requirement already satisfied: python-dateutil>=2.7 in /usr/local/lib/python3.11/dist-packages (from matplotlib) (2.9.0.post0)\n",
            "Requirement already satisfied: six>=1.5 in /usr/local/lib/python3.11/dist-packages (from python-dateutil>=2.7->matplotlib) (1.17.0)\n"
          ]
        }
      ],
      "source": [
        "# Install OpenCV\n",
        "!pip install opencv-python matplotlib"
      ]
    },
    {
      "cell_type": "markdown",
      "source": [
        "Now we can run our code..."
      ],
      "metadata": {
        "id": "xiWqY-ZmnkF_"
      }
    },
    {
      "cell_type": "code",
      "source": [
        "\n",
        "# Import the libraries we'll need\n",
        "import cv2  # This is OpenCV\n",
        "import matplotlib.pyplot as plt  # This helps us display images\n",
        "import numpy as np  # This helps with math and arrays\n",
        "from google.colab.patches import cv2_imshow  # Special function for displaying images in Colab\n",
        "\n",
        "# This line makes our plots appear in the notebook\n",
        "%matplotlib inline\n",
        "\n",
        "print(\"All set up and ready to go! 🚀\")"
      ],
      "metadata": {
        "colab": {
          "base_uri": "https://localhost:8080/"
        },
        "id": "KJNm8n5unelc",
        "outputId": "b47ccf72-5f3c-433a-bbe3-ef765895a98f"
      },
      "execution_count": null,
      "outputs": [
        {
          "output_type": "stream",
          "name": "stdout",
          "text": [
            "All set up and ready to go! 🚀\n"
          ]
        }
      ]
    },
    {
      "cell_type": "markdown",
      "source": [
        "Now we can display an image..."
      ],
      "metadata": {
        "id": "uNy2GElWqXnJ"
      }
    },
    {
      "cell_type": "code",
      "source": [
        "# prompt: display an image using opencv\n",
        "\n",
        "# Load the image using cv2.imread()\n",
        "image = cv2.imread('/content/19.jpg')\n",
        "\n",
        "# Check if the image was loaded successfully\n",
        "if image is None:\n",
        "    print(\"Error: Could not load image.\")\n",
        "else:\n",
        "    # Display the image using cv2_imshow()\n",
        "    cv2_imshow(image)\n"
      ],
      "metadata": {
        "id": "2KQVM3dBov_r"
      },
      "execution_count": null,
      "outputs": []
    },
    {
      "cell_type": "markdown",
      "source": [
        "or a part of the image..."
      ],
      "metadata": {
        "id": "pgqrmCGoqfLh"
      }
    },
    {
      "cell_type": "code",
      "source": [
        "cv2_imshow(image[100:200,:100])"
      ],
      "metadata": {
        "id": "_Lbx7HXWpw_a"
      },
      "execution_count": null,
      "outputs": []
    },
    {
      "cell_type": "code",
      "source": [],
      "metadata": {
        "id": "oHaDBkjuqqRU"
      },
      "execution_count": null,
      "outputs": []
    },
    {
      "cell_type": "markdown",
      "source": [
        "or only one of the colors...\n",
        "\n",
        "```\n",
        "# This is formatted as code\n",
        "```\n",
        "\n"
      ],
      "metadata": {
        "id": "HuWwC98xql1Y"
      }
    },
    {
      "cell_type": "code",
      "source": [
        "image[:,:,2] = 0"
      ],
      "metadata": {
        "id": "zLT3viKEqB-P"
      },
      "execution_count": null,
      "outputs": []
    },
    {
      "cell_type": "code",
      "source": [],
      "metadata": {
        "id": "XHOabJw5qNW5"
      },
      "execution_count": null,
      "outputs": []
    }
  ]
}
