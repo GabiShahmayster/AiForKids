{
  "nbformat": 4,
  "nbformat_minor": 0,
  "metadata": {
    "colab": {
      "provenance": [],
      "gpuType": "T4",
      "authorship_tag": "ABX9TyNr2H2i0f8g7csgy5cnLTpT",
      "include_colab_link": true
    },
    "kernelspec": {
      "name": "python3",
      "display_name": "Python 3"
    },
    "language_info": {
      "name": "python"
    },
    "accelerator": "GPU"
  },
  "cells": [
    {
      "cell_type": "markdown",
      "metadata": {
        "id": "view-in-github",
        "colab_type": "text"
      },
      "source": [
        "<a href=\"https://colab.research.google.com/github/GabiShahmayster/AiForKids/blob/main/train_animals_detector.ipynb\" target=\"_parent\"><img src=\"https://colab.research.google.com/assets/colab-badge.svg\" alt=\"Open In Colab\"/></a>"
      ]
    },
    {
      "cell_type": "markdown",
      "source": [
        "First we need to install the object detection library"
      ],
      "metadata": {
        "id": "xEimcnuFGOyd"
      }
    },
    {
      "cell_type": "code",
      "source": [
        "!pip install ultralytics"
      ],
      "metadata": {
        "id": "1RLPHV5lGBd3"
      },
      "execution_count": null,
      "outputs": []
    },
    {
      "cell_type": "markdown",
      "source": [
        "Now we need to train the model"
      ],
      "metadata": {
        "id": "Ll8vYFRFGTpJ"
      }
    },
    {
      "cell_type": "code",
      "source": [
        "# prompt: train an ultralytic yolo object detector. the training data is in /content/train\n",
        "from ultralytics import YOLO\n",
        "\n",
        "# Load a model\n",
        "model = YOLO('yolov8n.pt')  # load a pretrained model (recommended for training)\n",
        "\n",
        "# Train the model\n",
        "results = model.train(data='/content/config.yaml', epochs=30) #Replace with your data.yaml path"
      ],
      "metadata": {
        "id": "zuanw0UbGNI7"
      },
      "execution_count": null,
      "outputs": []
    },
    {
      "cell_type": "markdown",
      "source": [
        "Now we can test it on one of the test images"
      ],
      "metadata": {
        "id": "GoF9N_QcSfvH"
      }
    },
    {
      "cell_type": "code",
      "source": [
        "model.predict('/content/test/100.png')[0].plot()"
      ],
      "metadata": {
        "id": "Ri_T6If0RxZC"
      },
      "execution_count": null,
      "outputs": []
    },
    {
      "cell_type": "code",
      "source": [],
      "metadata": {
        "id": "dRbt9O-YSePU"
      },
      "execution_count": null,
      "outputs": []
    }
  ]
}