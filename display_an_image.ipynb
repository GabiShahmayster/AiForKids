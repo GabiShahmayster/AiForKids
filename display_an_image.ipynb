{
  "nbformat": 4,
  "nbformat_minor": 0,
  "metadata": {
    "colab": {
      "provenance": [],
      "authorship_tag": "ABX9TyNlsccLM6cFBHA23uOfhrAO",
      "include_colab_link": true
    },
    "kernelspec": {
      "name": "python3",
      "display_name": "Python 3"
    },
    "language_info": {
      "name": "python"
    }
  },
  "cells": [
    {
      "cell_type": "markdown",
      "metadata": {
        "id": "view-in-github",
        "colab_type": "text"
      },
      "source": [
        "<a href=\"https://colab.research.google.com/github/GabiShahmayster/AiForKids/blob/main/display_an_image.ipynb\" target=\"_parent\"><img src=\"https://colab.research.google.com/assets/colab-badge.svg\" alt=\"Open In Colab\"/></a>"
      ]
    },
    {
      "cell_type": "markdown",
      "source": [
        "Hi Kids!\n",
        "Today we're going to learn about computer vision..."
      ],
      "metadata": {
        "id": "m5zcC0iFm-uq"
      }
    },
    {
      "cell_type": "markdown",
      "source": [
        "The first thing we need to do is to install some python libraries..."
      ],
      "metadata": {
        "id": "m0NHYrgWnQ-i"
      }
    },
    {
      "cell_type": "code",
      "execution_count": null,
      "metadata": {
        "id": "0Vjc4Cqsm1Vo"
      },
      "outputs": [],
      "source": [
        "# Install OpenCV\n",
        "!pip install opencv-python matplotlib"
      ]
    },
    {
      "cell_type": "markdown",
      "source": [
        "Now we can run our code..."
      ],
      "metadata": {
        "id": "xiWqY-ZmnkF_"
      }
    },
    {
      "cell_type": "code",
      "source": [
        "\n",
        "# Import the libraries we'll need\n",
        "import cv2  # This is OpenCV\n",
        "import matplotlib.pyplot as plt  # This helps us display images\n",
        "import numpy as np  # This helps with math and arrays\n",
        "from google.colab.patches import cv2_imshow  # Special function for displaying images in Colab\n",
        "\n",
        "# This line makes our plots appear in the notebook\n",
        "%matplotlib inline\n",
        "\n",
        "print(\"All set up and ready to go! 🚀\")"
      ],
      "metadata": {
        "id": "KJNm8n5unelc"
      },
      "execution_count": null,
      "outputs": []
    },
    {
      "cell_type": "markdown",
      "source": [
        "Now we can display an image..."
      ],
      "metadata": {
        "id": "uNy2GElWqXnJ"
      }
    },
    {
      "cell_type": "code",
      "source": [
        "# prompt: display an image using opencv\n",
        "\n",
        "# Load the image using cv2.imread()\n",
        "image = cv2.imread('/content/ball.png')\n",
        "\n",
        "# Check if the image was loaded successfully\n",
        "if image is None:\n",
        "    print(\"Error: Could not load image.\")\n",
        "else:\n",
        "    # Display the image using cv2_imshow()\n",
        "    cv2_imshow(image)\n"
      ],
      "metadata": {
        "id": "2KQVM3dBov_r"
      },
      "execution_count": null,
      "outputs": []
    },
    {
      "cell_type": "markdown",
      "source": [
        "How large is the image?"
      ],
      "metadata": {
        "id": "JoIFCydRzFZj"
      }
    },
    {
      "cell_type": "code",
      "source": [
        "image_width = image.shape[1]\n",
        "image_height = image.shape[0]\n",
        "print(f\"image width = {image_width} [pixels]\")\n",
        "print(f\"image height = {image_height} [pixels]\")"
      ],
      "metadata": {
        "id": "DRllRHWtzIp5"
      },
      "execution_count": null,
      "outputs": []
    },
    {
      "cell_type": "markdown",
      "source": [
        "we can focus on a small part of the image..."
      ],
      "metadata": {
        "id": "pgqrmCGoqfLh"
      }
    },
    {
      "cell_type": "code",
      "source": [
        "image_crop = image[150:250,150:250]\n",
        "cv2_imshow(image_crop)"
      ],
      "metadata": {
        "id": "_Lbx7HXWpw_a"
      },
      "execution_count": null,
      "outputs": []
    },
    {
      "cell_type": "markdown",
      "source": [
        "or zoom in..."
      ],
      "metadata": {
        "id": "_fLs3lihzwiR"
      }
    },
    {
      "cell_type": "code",
      "source": [
        "crop_height, crop_width, _ = image_crop.shape\n",
        "image_zoom_in = cv2.resize(image_crop, [3*crop_width,3*crop_height])\n",
        "image_zoom_in.shape\n",
        "cv2_imshow(image_zoom_in)"
      ],
      "metadata": {
        "id": "oHaDBkjuqqRU"
      },
      "execution_count": null,
      "outputs": []
    },
    {
      "cell_type": "code",
      "source": [],
      "metadata": {
        "id": "XHOabJw5qNW5"
      },
      "execution_count": null,
      "outputs": []
    }
  ]
}